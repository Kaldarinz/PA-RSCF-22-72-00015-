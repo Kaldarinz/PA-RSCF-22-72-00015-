{
 "cells": [
  {
   "cell_type": "code",
   "execution_count": 1,
   "metadata": {},
   "outputs": [],
   "source": [
    "from pylablib.devices import Thorlabs\n",
    "from scipy.fftpack import rfft, irfft, fftfreq\n",
    "from scipy import signal\n",
    "import numpy as np\n",
    "import matplotlib.pyplot as plt\n",
    "from matplotlib import MatplotlibDeprecationWarning\n",
    "import warnings\n",
    "import os.path\n",
    "from pathlib import Path\n",
    "import Oscilloscope\n",
    "from InquirerPy import inquirer\n",
    "from InquirerPy.validator import PathValidator\n",
    "import matplotlib.gridspec as gridspec\n",
    "import keyboard\n",
    "import time\n",
    "import math\n",
    "from itertools import combinations\n",
    "import Validators as vd"
   ]
  },
  {
   "cell_type": "code",
   "execution_count": 2,
   "metadata": {},
   "outputs": [
    {
     "ename": "NameError",
     "evalue": "name 'remove_zeros' is not defined",
     "output_type": "error",
     "traceback": [
      "\u001b[1;31m---------------------------------------------------------------------------\u001b[0m",
      "\u001b[1;31mNameError\u001b[0m                                 Traceback (most recent call last)",
      "Cell \u001b[1;32mIn[2], line 9\u001b[0m\n\u001b[0;32m      5\u001b[0m data \u001b[39m=\u001b[39m np\u001b[39m.\u001b[39mloadtxt(filename,skiprows\u001b[39m=\u001b[39m\u001b[39m1\u001b[39m)\n\u001b[0;32m      6\u001b[0m header \u001b[39m=\u001b[39m \u001b[39mopen\u001b[39m(filename)\u001b[39m.\u001b[39mreadline()\n\u001b[1;32m----> 9\u001b[0m data \u001b[39m=\u001b[39m remove_zeros(data)\n\u001b[0;32m     10\u001b[0m data \u001b[39m=\u001b[39m calc_od(data)\n\u001b[0;32m     11\u001b[0m filter_titles \u001b[39m=\u001b[39m header\u001b[39m.\u001b[39msplit(\u001b[39m'\u001b[39m\u001b[39m\\n\u001b[39;00m\u001b[39m'\u001b[39m)[\u001b[39m0\u001b[39m]\u001b[39m.\u001b[39msplit(\u001b[39m'\u001b[39m\u001b[39m\\t\u001b[39;00m\u001b[39m'\u001b[39m)[\u001b[39m2\u001b[39m:]\n",
      "\u001b[1;31mNameError\u001b[0m: name 'remove_zeros' is not defined"
     ]
    }
   ],
   "source": [
    "\n",
    "result = {}\n",
    "filename = 'backup files/ColorGlass_old.txt'\n",
    "\n",
    "\n",
    "data = np.loadtxt(filename,skiprows=1)\n",
    "header = open(filename).readline()\n",
    "\n",
    "\n",
    "data = remove_zeros(data)\n",
    "data = calc_od(data)\n",
    "filter_titles = header.split('\\n')[0].split('\\t')[2:]\n",
    "\n",
    "\n",
    "wl_index = np.where(data[1:,0] == wavelength)[0][0] + 1\n",
    "\n",
    "filter_dict = {}\n",
    "for key, value in zip(filter_titles,data[wl_index,2:]):\n",
    "    filter_dict.update({key:value})\n",
    "\n",
    "filter_combinations = {}\n",
    "for i in range(max_combinations):\n",
    "    for comb in combinations(filter_dict.items(),i+1):\n",
    "        key = ''\n",
    "        value = 0\n",
    "        for k,v in comb:\n",
    "            key +=k\n",
    "            value+=v\n",
    "        filter_combinations.update({key:math.pow(10,-value)})    \n",
    "\n",
    "target_energy = target_energy*1000\n",
    "laser_energy = current_energy_pm/data[wl_index,1]*100\n",
    "\n",
    "target_transm = target_energy/laser_energy\n",
    "if not no_print:\n",
    "    print(f'Target energy = {target_energy} [uJ]')\n",
    "    print(f'Current laser output = {laser_energy:.0f} [uJ]')\n",
    "    print(f'Target transmission = {target_transm*100:.1f} %')\n",
    "    print(f'{bcolors.HEADER} Valid filter combinations:{bcolors.ENDC}')\n",
    "filter_combinations = dict(sorted(filter_combinations.copy().items(), key=lambda item: item[1]))\n",
    "\n",
    "i=0\n",
    "for key, value in filter_combinations.items():\n",
    "    if (value-target_transm) > 0 and value/target_transm < 2.5:\n",
    "        result.update({key: value})\n",
    "        if not no_print:\n",
    "            if (value/target_transm < 1.25) and i<5:\n",
    "                print(f'{bcolors.OKGREEN} {key}, transmission = {value*100:.1f}%{bcolors.ENDC} (target= {target_transm*100:.1f}%)')\n",
    "            elif (value/target_transm < 1.5) and i<5:\n",
    "                print(f'{bcolors.OKCYAN} {key}, transmission = {value*100:.1f}%{bcolors.ENDC} (target= {target_transm*100:.1f}%)')\n",
    "            elif value/target_transm < 2 and i<5:\n",
    "                print(f'{bcolors.OKBLUE} {key}, transmission = {value*100:.1f}%{bcolors.ENDC} (target= {target_transm*100:.1f}%)')\n",
    "            elif value/target_transm < 2.5 and i<5:\n",
    "                print(f'{bcolors.WARNING} {key}, transmission = {value*100:.1f}%{bcolors.ENDC} (target= {target_transm*100:.1f}%)')\n",
    "        i+=1\n",
    "\n",
    "if not no_print:\n",
    "    print('\\n')\n",
    "\n",
    "target_pm_value = target_energy*data[wl_index,1]/100\n",
    "\n"
   ]
  }
 ],
 "metadata": {
  "kernelspec": {
   "display_name": "venv",
   "language": "python",
   "name": "python3"
  },
  "language_info": {
   "codemirror_mode": {
    "name": "ipython",
    "version": 3
   },
   "file_extension": ".py",
   "mimetype": "text/x-python",
   "name": "python",
   "nbconvert_exporter": "python",
   "pygments_lexer": "ipython3",
   "version": "3.9.7"
  },
  "orig_nbformat": 4
 },
 "nbformat": 4,
 "nbformat_minor": 2
}
