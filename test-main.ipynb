{
 "cells": [
  {
   "cell_type": "code",
   "execution_count": null,
   "metadata": {},
   "outputs": [],
   "source": [
    "import pyvisa as pv\n",
    "import numpy as np\n",
    "import matplotlib.pyplot as plt\n",
    "\n",
    "rm = pv.ResourceManager()\n",
    "#Get the USB device, e.g. \"\"\n",
    "instruments = rm.list_resources()\n",
    "usb = list(filter(lambda x: 'USB' in x, instruments))\n",
    "if len(usb) !=1:\n",
    "    print('Bad instrument list', instruments)\n",
    "    sys.exit(-1)\n",
    "scope = rm.open_resource(usb[0], timeout=1000, chunk_size=1024000)"
   ]
  },
  {
   "cell_type": "code",
   "execution_count": null,
   "metadata": {},
   "outputs": [],
   "source": [
    "timeoffset = float(scope.query(\":TIM:OFFS?\")[0])\n",
    "voltscale = float(scope.query(\":CHAN1:SCAL?\")[0])\n",
    "voltoffset = float(scope.query(\":CHAN1:OFFS?\")[:-1])\n",
    "\n",
    "scope = rm.open_resource(usb[0], timeout = 200, chunk_size=1024000)\n",
    "scope.write(\":WAV:POIN:MODE RAW\")\n",
    "scope.write(\":WAV:DATA? CHAN1\")\n",
    "\n",
    "rawdata = scope.read_raw() #Read the block of data\n",
    "rawdata = rawdata[10 :] #Drop the heading\n",
    "\n",
    "data_size = len(rawdata)\n",
    "data = np.frombuffer(rawdata, 'B')\n",
    "data = data * -1 + 255\n",
    "data = (data -130.0 - voltoffset/voltscale*25) / 25 * voltscale\n",
    "plt.plot(data[1:-1])"
   ]
  }
 ],
 "metadata": {
  "language_info": {
   "name": "python"
  },
  "orig_nbformat": 4
 },
 "nbformat": 4,
 "nbformat_minor": 2
}
