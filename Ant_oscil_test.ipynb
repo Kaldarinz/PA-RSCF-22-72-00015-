{
 "cells": [
  {
   "cell_type": "code",
   "execution_count": 1,
   "metadata": {},
   "outputs": [],
   "source": [
    "import pyvisa as pv\n",
    "import numpy as np\n",
    "import matplotlib.pyplot as plt"
   ]
  },
  {
   "cell_type": "code",
   "execution_count": 2,
   "metadata": {},
   "outputs": [
    {
     "name": "stdout",
     "output_type": "stream",
     "text": [
      "all resources ('ASRL1::INSTR', 'ASRL2::INSTR', 'USB0::0x1AB1::0x04CE::DS1ZD212100403::INSTR')\n",
      "USB0::0x1AB1::0x04CE::DS1ZD212100403::INSTR\n"
     ]
    }
   ],
   "source": [
    "def FindInstrument():\n",
    "    instrument_name = list(filter(lambda x: 'USB0::0x1AB1::0x04CE::DS1ZD212100403::INSTR' in x,\n",
    "                                  all_instruments))  # USB0::0x1AB1::0x04CE::DS1ZD212100403::INSTR адрес прибора. Если используете другой прибор, то посмотрите вывод строки print(all_instruments)\n",
    "    if len(instrument_name) == 0:\n",
    "        print('Осциллограф не найден в списке устройств')\n",
    "    else:\n",
    "        return instrument_name[0]\n",
    "\n",
    "rm = pv.ResourceManager()  # вызывает менеджер работы\n",
    "all_instruments = rm.list_resources()  # показывает доступные порты передачи данных,имя которых по дефолту заканчивается на ::INSTR. USB RAW и TCPIP SOCKET не выводятся, но чтобы их посмотерть: '?*' в аргумент list_resources()\n",
    "print('all resources', all_instruments)\n",
    "print(FindInstrument())  # вызываю функцию для теста подключения. Должна вернуть адрес USB\n",
    "rigol = rm.open_resource(FindInstrument())"
   ]
  },
  {
   "cell_type": "code",
   "execution_count": null,
   "metadata": {},
   "outputs": [],
   "source": [
    "rigol.write(':ACQ:MDEP 24000000')"
   ]
  },
  {
   "cell_type": "code",
   "execution_count": null,
   "metadata": {},
   "outputs": [],
   "source": [
    "params_raw = rigol.query(':WAV:PRE?').split(',')\n",
    "params = {\n",
    "    'format': int(params_raw[0]) # 0 - BYTE\n",
    "\n",
    "}"
   ]
  },
  {
   "cell_type": "code",
   "execution_count": 31,
   "metadata": {},
   "outputs": [
    {
     "name": "stdout",
     "output_type": "stream",
     "text": [
      "(240000,)\n",
      "(1200000,)\n",
      "10.0\n",
      "(240000,)\n",
      "(1200000,)\n",
      "10.0\n",
      "(240000,)\n",
      "(1200000,)\n",
      "10.0\n",
      "(240000,)\n",
      "(1200000,)\n",
      "10.0\n",
      "(240000,)\n",
      "(1200000,)\n",
      "10.0\n",
      "<class 'numpy.ndarray'>\n",
      "[-119. -119. -118. ...   61.   62.   10.]\n"
     ]
    },
    {
     "data": {
      "image/png": "[encoded data removed]",
      "text/plain": [
       "<Figure size 432x288 with 1 Axes>"
      ]
     },
     "metadata": {
      "needs_background": "light"
     },
     "output_type": "display_data"
    }
   ],
   "source": [
    "rigol.write(':STOP')\n",
    "rigol.write(':WAV:SOUR CHAN1')\n",
    "rigol.write(':WAV:MODE RAW')\n",
    "rigol.write('\"WAV:FORM BYTE')\n",
    "data_points_amount = 240000\n",
    "data_chunks_amount = 5\n",
    "data = np.zeros(data_chunks_amount*data_points_amount)\n",
    "for i in range(data_chunks_amount):\n",
    "    rigol.write(':WAV:STAR ' + str(i*data_points_amount+1))\n",
    "    rigol.write(':WAV:STOP ' + str((i+1)*data_points_amount))\n",
    "    rigol.write(':WAV:DATA?')\n",
    "    data_chunk = np.frombuffer(rigol.read_raw(), dtype=np.int8)\n",
    "    data[i*data_points_amount:data_points_amount*(i+1)] += data_chunk[12:]\n",
    "rigol.write(':RUN')\n",
    "\n",
    "print(type(data))\n",
    "print(data)\n",
    "\n",
    "plt.plot(data[11:])\n",
    "plt.show()"
   ]
  },
  {
   "cell_type": "code",
   "execution_count": 3,
   "metadata": {},
   "outputs": [
    {
     "name": "stdout",
     "output_type": "stream",
     "text": [
      "Memory depth 24000000\n",
      "\n",
      "Sample rate  1.000000e+09\n",
      "\n",
      "Horizontal time base 2.0000000e-04\n",
      "\n",
      "Preamble 0,0,1200,1,2.000000e-06,-1.736000e-03,0,1.420000e-02,-8,127\n",
      "\n",
      "Start point 1\n",
      "\n",
      "Stop point 1200\n",
      "\n"
     ]
    },
    {
     "data": {
      "text/plain": [
       "6"
      ]
     },
     "execution_count": 3,
     "metadata": {},
     "output_type": "execute_result"
    }
   ],
   "source": [
    "print('Memory depth', rigol.query(':ACQ:MDEP?'))\n",
    "print('Sample rate ', rigol.query(':ACQ:SRAT?'))\n",
    "print('Horizontal time base', rigol.query(':TIM:SCAL?'))\n",
    "print('Preamble', rigol.query(':WAV:PRE?'))\n",
    "print('Start point', rigol.query(':WAV:STAR?'))\n",
    "print('Stop point', rigol.query(':WAV:STOP?'))\n",
    "rigol.write(':RUN')"
   ]
  },
  {
   "cell_type": "code",
   "execution_count": 42,
   "metadata": {},
   "outputs": [
    {
     "name": "stdout",
     "output_type": "stream",
     "text": [
      "<class 'list'>\n",
      "2e-06\n",
      "<class 'float'>\n"
     ]
    }
   ],
   "source": [
    "params = rigol.query(':WAV:PRE?').split(',')\n",
    "print(type(params))\n",
    "print(float(params[4]))\n",
    "print(type(float(params[4])))"
   ]
  }
 ],
 "metadata": {
  "kernelspec": {
   "display_name": "Python 3.9.7 ('venv': venv)",
   "language": "python",
   "name": "python3"
  },
  "language_info": {
   "codemirror_mode": {
    "name": "ipython",
    "version": 3
   },
   "file_extension": ".py",
   "mimetype": "text/x-python",
   "name": "python",
   "nbconvert_exporter": "python",
   "pygments_lexer": "ipython3",
   "version": "3.9.7"
  },
  "orig_nbformat": 4,
  "vscode": {
   "interpreter": {
    "hash": "b91392f6933e3feb3aa2eaf08649cc9a8f3b2cf93e15bc4257d9a7d2de6bc96d"
   }
  }
 },
 "nbformat": 4,
 "nbformat_minor": 2
}
