{
 "cells": [
  {
   "cell_type": "code",
   "execution_count": 59,
   "metadata": {},
   "outputs": [],
   "source": [
    "import pyvisa as pv\n",
    "import numpy as np\n",
    "import matplotlib.pyplot as plt"
   ]
  },
  {
   "cell_type": "code",
   "execution_count": 62,
   "metadata": {},
   "outputs": [
    {
     "name": "stdout",
     "output_type": "stream",
     "text": [
      "Осциллограф найден!\n",
      "Адрес: USB0::0x1AB1::0x04CE::DS1ZD212100403::INSTR\n"
     ]
    }
   ],
   "source": [
    "def FindInstrument():\n",
    "    instrument_name = list(filter(lambda x: 'USB0::0x1AB1::0x04CE::DS1ZD212100403::INSTR' in x,\n",
    "                                  all_instruments))  # USB0::0x1AB1::0x04CE::DS1ZD212100403::INSTR адрес прибора. Если используете другой прибор, то посмотрите вывод строки print(all_instruments)\n",
    "    if len(instrument_name) == 0:\n",
    "        print('Осциллограф не найден в списке устройств')\n",
    "    else:\n",
    "        print('Осциллограф найден!')\n",
    "        print('Адрес:', instrument_name[0])\n",
    "        return instrument_name[0]\n",
    "\n",
    "rm = pv.ResourceManager()  # вызывает менеджер работы\n",
    "all_instruments = rm.list_resources()  # показывает доступные порты передачи данных,имя которых по дефолту заканчивается на ::INSTR. USB RAW и TCPIP SOCKET не выводятся, но чтобы их посмотерть: '?*' в аргумент list_resources()\n",
    "rigol = rm.open_resource(FindInstrument())"
   ]
  },
  {
   "cell_type": "code",
   "execution_count": 63,
   "metadata": {},
   "outputs": [
    {
     "name": "stdout",
     "output_type": "stream",
     "text": [
      "xincerement =  2.0 ns\n",
      "1/SampleRate =  2.0 ns\n",
      "frame duration =  480.0 us\n",
      "total read duration =  960.0 us\n"
     ]
    },
    {
     "ename": "ValueError",
     "evalue": "operands could not be broadcast together with shapes (240000,) (0,) (240000,) ",
     "output_type": "error",
     "traceback": [
      "\u001b[0;31m---------------------------------------------------------------------------\u001b[0m",
      "\u001b[0;31mValueError\u001b[0m                                Traceback (most recent call last)",
      "\u001b[0;32m/var/folders/z3/s1nlw_7j7494r4c6vs3kgy6w0000gn/T/ipykernel_23388/2721433942.py\u001b[0m in \u001b[0;36m<module>\u001b[0;34m\u001b[0m\n\u001b[1;32m     52\u001b[0m     \u001b[0mdata_chunk\u001b[0m \u001b[0;34m=\u001b[0m \u001b[0;34m(\u001b[0m\u001b[0mdata_chunk\u001b[0m \u001b[0;34m-\u001b[0m \u001b[0mparams\u001b[0m\u001b[0;34m[\u001b[0m\u001b[0;34m'xreference'\u001b[0m\u001b[0;34m]\u001b[0m \u001b[0;34m-\u001b[0m \u001b[0mparams\u001b[0m\u001b[0;34m[\u001b[0m\u001b[0;34m'yorigin'\u001b[0m\u001b[0;34m]\u001b[0m\u001b[0;34m)\u001b[0m \u001b[0;34m*\u001b[0m \u001b[0mparams\u001b[0m\u001b[0;34m[\u001b[0m\u001b[0;34m'yincrement'\u001b[0m\u001b[0;34m]\u001b[0m\u001b[0;34m\u001b[0m\u001b[0;34m\u001b[0m\u001b[0m\n\u001b[1;32m     53\u001b[0m     \u001b[0mdata_chunk\u001b[0m\u001b[0;34m[\u001b[0m\u001b[0;34m-\u001b[0m\u001b[0;36m1\u001b[0m\u001b[0;34m]\u001b[0m \u001b[0;34m=\u001b[0m \u001b[0mdata_chunk\u001b[0m\u001b[0;34m[\u001b[0m\u001b[0;34m-\u001b[0m\u001b[0;36m2\u001b[0m\u001b[0;34m]\u001b[0m \u001b[0;31m# убираем битый пиксель\u001b[0m\u001b[0;34m\u001b[0m\u001b[0;34m\u001b[0m\u001b[0m\n\u001b[0;32m---> 54\u001b[0;31m     \u001b[0mdata\u001b[0m\u001b[0;34m[\u001b[0m\u001b[0mi\u001b[0m\u001b[0;34m*\u001b[0m\u001b[0mdata_points_amount\u001b[0m\u001b[0;34m:\u001b[0m\u001b[0mdata_points_amount\u001b[0m\u001b[0;34m*\u001b[0m\u001b[0;34m(\u001b[0m\u001b[0mi\u001b[0m\u001b[0;34m+\u001b[0m\u001b[0;36m1\u001b[0m\u001b[0;34m)\u001b[0m\u001b[0;34m]\u001b[0m \u001b[0;34m+=\u001b[0m \u001b[0mdata_chunk\u001b[0m\u001b[0;34m[\u001b[0m\u001b[0;36m12\u001b[0m\u001b[0;34m:\u001b[0m\u001b[0;34m]\u001b[0m\u001b[0;34m\u001b[0m\u001b[0;34m\u001b[0m\u001b[0m\n\u001b[0m\u001b[1;32m     55\u001b[0m \u001b[0mrigol\u001b[0m\u001b[0;34m.\u001b[0m\u001b[0mwrite\u001b[0m\u001b[0;34m(\u001b[0m\u001b[0;34m':RUN'\u001b[0m\u001b[0;34m)\u001b[0m\u001b[0;34m\u001b[0m\u001b[0;34m\u001b[0m\u001b[0m\n\u001b[1;32m     56\u001b[0m \u001b[0;34m\u001b[0m\u001b[0m\n",
      "\u001b[0;31mValueError\u001b[0m: operands could not be broadcast together with shapes (240000,) (0,) (240000,) "
     ]
    }
   ],
   "source": [
    "####### Все численные параметры задаются здесь\n",
    "data_points_amount = 240000 # задаём сколько точек считывается за раз (для типа BYTE максимум 240 000)\n",
    "data_chunks_amount = 2 # сколько раз будут читаться данные\n",
    "read_channel = 'CHAN1'\n",
    "#######\n",
    "\n",
    "rigol.write(':ACQ:MDEP 24000000')\n",
    "rigol.write(':STOP')\n",
    "rigol.write(':WAV:SOUR ' + read_channel)\n",
    "rigol.write(':WAV:MODE RAW')\n",
    "rigol.write('\"WAV:FORM BYTE')\n",
    "\n",
    "params_raw = rigol.query(':WAV:PRE?').split(',')\n",
    "params = {\n",
    "    'format': int(params_raw[0]), # 0 - BYTE, 1 - WORD, 2 - ASC \n",
    "    'type': int(params_raw[1]), # 0 - NORMal, 1 - MAXimum, 2 RAW\n",
    "    'points': int(params_raw[2]), # between 1 and 240000000\n",
    "    'count': int(params_raw[3]), # the number of averages in the average sample mode and 1 in other modes\n",
    "    'xincrement': float(params_raw[4]), # the time difference brtween two neighboring points in the X direction\n",
    "    'xorigin': float(params_raw[5]), # the start time of the waveform data in the X direction\n",
    "    'xreference': float(params_raw[6]), # the reference time of the data point in the X direction\n",
    "    'yincrement': float(params_raw[7]), # the waveform increment in the Y direction\n",
    "    'yorigin': float(params_raw[8]), # the vertical offset relative to the \"Vertical Reference Position\" in the Y direction\n",
    "    'yreference': float(params_raw[9]) #the vertical reference position in the Y direction\n",
    "}\n",
    "\n",
    "# по факту триггерный сигнал в середине сохранённого диапазона.\n",
    "data_start = (int(params['points']/data_points_amount/2) - 1) * data_points_amount # выбираем начальную точку\n",
    "\n",
    "sample_rate = float(rigol.query(':ACQ:SRAT?')) # шаг по времени в RAW 1/sample_rate\n",
    "frame_duration = data_points_amount/sample_rate # длительность кадра считывания\n",
    "total_duration = frame_duration * data_chunks_amount # общая длительность считывания\n",
    "\n",
    "print('xincerement = ', params['xincrement'] * 1000000000, 'ns')\n",
    "print('1/SampleRate = ', 1000000000/sample_rate, 'ns')\n",
    "\n",
    "if (1/sample_rate) != params['xincrement']:\n",
    "    print('Sample rate reading problem')\n",
    "\n",
    "print('frame duration = ', frame_duration * 1000000, 'us')\n",
    "print('total read duration = ', total_duration * 1000000, 'us')\n",
    "\n",
    "data = np.zeros(data_chunks_amount*data_points_amount)\n",
    "\n",
    "for i in range(data_chunks_amount):\n",
    "    rigol.write(':WAV:STAR ' + str(i * data_points_amount + 1 + data_start))\n",
    "    rigol.write(':WAV:STOP ' + str((i + 1) * data_points_amount + data_start))\n",
    "\n",
    "    rigol.write(':WAV:DATA?')\n",
    "    data_chunk = np.frombuffer(rigol.read_raw(), dtype=np.int8)\n",
    "\n",
    "    data_chunk = (data_chunk - params['xreference'] - params['yorigin']) * params['yincrement']\n",
    "    data_chunk[-1] = data_chunk[-2] # убираем битый пиксель\n",
    "    data[i*data_points_amount:data_points_amount*(i+1)] += data_chunk[12:]\n",
    "rigol.write(':RUN')\n",
    "\n",
    "x_data = np.arange(0, params['xincrement']*data[11:].size, params['xincrement'])\n",
    "\n",
    "plt.plot(x_data, data[11:])\n",
    "plt.show()"
   ]
  }
 ],
 "metadata": {
  "kernelspec": {
   "display_name": "Python 3.9.7 ('venv': venv)",
   "language": "python",
   "name": "python3"
  },
  "language_info": {
   "codemirror_mode": {
    "name": "ipython",
    "version": 3
   },
   "file_extension": ".py",
   "mimetype": "text/x-python",
   "name": "python",
   "nbconvert_exporter": "python",
   "pygments_lexer": "ipython3",
   "version": "3.9.7"
  },
  "orig_nbformat": 4,
  "vscode": {
   "interpreter": {
    "hash": "b91392f6933e3feb3aa2eaf08649cc9a8f3b2cf93e15bc4257d9a7d2de6bc96d"
   }
  }
 },
 "nbformat": 4,
 "nbformat_minor": 2
}
