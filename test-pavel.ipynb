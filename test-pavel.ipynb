{
 "cells": [
  {
   "cell_type": "code",
   "execution_count": 4,
   "metadata": {},
   "outputs": [
    {
     "name": "stdout",
     "output_type": "stream",
     "text": [
      "('USB0::0x1AB1::0x04CE::DS1ZD212100403::INSTR', 'ASRL1::INSTR', 'ASRL6::INSTR', 'ASRL8::INSTR')\n"
     ]
    }
   ],
   "source": [
    "import pyvisa as pv\n",
    "import numpy as np\n",
    "import matplotlib.pyplot as plt\n",
    "import sys\n",
    "\n",
    "rm = pv.ResourceManager()\n",
    "#Get the USB device, e.g. \"\"\n",
    "instruments = rm.list_resources()\n",
    "usb = list(filter(lambda x: 'USB' in x, instruments))\n",
    "print(instruments)\n",
    "\n",
    "if len(usb) !=1:\n",
    "    print('Bad instrument list', instruments)\n",
    "    sys.exit(-1)\n",
    "scope = rm.open_resource(usb[0], timeout=1000, chunk_size=1024000)"
   ]
  },
  {
   "cell_type": "code",
   "execution_count": 5,
   "metadata": {},
   "outputs": [
    {
     "name": "stdout",
     "output_type": "stream",
     "text": [
      "timeoffset = 0.0\n",
      "voltscale = 2.0\n",
      "voltoffset = -0.068\n"
     ]
    },
    {
     "data": {
      "text/plain": [
       "[<matplotlib.lines.Line2D at 0x2e6ba826a30>]"
      ]
     },
     "execution_count": 5,
     "metadata": {},
     "output_type": "execute_result"
    },
    {
     "data": {
      "image/png": "[encoded data removed]",
      "text/plain": [
       "<Figure size 432x288 with 1 Axes>"
      ]
     },
     "metadata": {
      "needs_background": "light"
     },
     "output_type": "display_data"
    }
   ],
   "source": [
    "timeoffset = float(scope.query(\":TIM:OFFS?\")[0])\n",
    "voltscale = float(scope.query(\":CHAN1:SCAL?\")[0])\n",
    "voltoffset = float(scope.query(\":CHAN1:OFFS?\")[:-1])\n",
    "\n",
    "print(\"timeoffset = \" + str(timeoffset))\n",
    "print(\"voltscale = \" + str(voltscale))\n",
    "print(\"voltoffset = \" + str(voltoffset))\n",
    "\n",
    "scope = rm.open_resource(usb[0], timeout = 200, chunk_size=1024000)\n",
    "scope.write(\":WAV:POIN:MODE RAW\")\n",
    "scope.write(\":WAV:DATA? CHAN1\")\n",
    "\n",
    "\n",
    "rawdata = scope.read_raw() #Read the block of data\n",
    "#print(rawdata)\n",
    "rawdata = rawdata[10 :] #Drop the heading\n",
    "\n",
    "data_size = len(rawdata)\n",
    "data = np.frombuffer(rawdata, 'B')\n",
    "data = data * -1 + 255\n",
    "data = (data -130.0 - voltoffset/voltscale*25) / 25 * voltscale\n",
    "plt.plot(data[1:-1])"
   ]
  },
  {
   "cell_type": "code",
   "execution_count": 6,
   "metadata": {},
   "outputs": [],
   "source": [
    "import pandas as pd\n",
    "f = \"lookatme\""
   ]
  }
 ],
 "metadata": {
  "kernelspec": {
   "display_name": "Python 3.8.8 ('base')",
   "language": "python",
   "name": "python3"
  },
  "language_info": {
   "codemirror_mode": {
    "name": "ipython",
    "version": 3
   },
   "file_extension": ".py",
   "mimetype": "text/x-python",
   "name": "python",
   "nbconvert_exporter": "python",
   "pygments_lexer": "ipython3",
   "version": "3.8.8"
  },
  "orig_nbformat": 4,
  "vscode": {
   "interpreter": {
    "hash": "ad2bdc8ecc057115af97d19610ffacc2b4e99fae6737bb82f5d7fb13d2f2c186"
   }
  }
 },
 "nbformat": 4,
 "nbformat_minor": 2
}
