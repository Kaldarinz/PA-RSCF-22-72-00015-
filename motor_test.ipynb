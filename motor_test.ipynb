{
 "cells": [
  {
   "cell_type": "code",
   "execution_count": 1,
   "metadata": {},
   "outputs": [],
   "source": [
    "from thorlabs_apt_device import KDC101"
   ]
  },
  {
   "cell_type": "code",
   "execution_count": 2,
   "metadata": {},
   "outputs": [
    {
     "ename": "RuntimeError",
     "evalue": "No Thorlabs APT devices detected matching the selected criteria.",
     "output_type": "error",
     "traceback": [
      "\u001b[1;31m---------------------------------------------------------------------------\u001b[0m",
      "\u001b[1;31mRuntimeError\u001b[0m                              Traceback (most recent call last)",
      "Cell \u001b[1;32mIn[2], line 1\u001b[0m\n\u001b[1;32m----> 1\u001b[0m stage \u001b[39m=\u001b[39m KDC101()\n\u001b[0;32m      3\u001b[0m stage\u001b[39m.\u001b[39midentify()\n",
      "File \u001b[1;32mc:\\Users\\antonpopov\\Documents\\PA-RSCF-22-72-00015-\\venv\\lib\\site-packages\\thorlabs_apt_device\\devices\\kdc101.py:47\u001b[0m, in \u001b[0;36mKDC101.__init__\u001b[1;34m(self, serial_port, vid, pid, manufacturer, product, serial_number, location, home, invert_direction_logic, swap_limit_switches)\u001b[0m\n\u001b[0;32m     45\u001b[0m \u001b[39mdef\u001b[39;00m \u001b[39m__init__\u001b[39m(\u001b[39mself\u001b[39m, serial_port\u001b[39m=\u001b[39m\u001b[39mNone\u001b[39;00m, vid\u001b[39m=\u001b[39m\u001b[39mNone\u001b[39;00m, pid\u001b[39m=\u001b[39m\u001b[39mNone\u001b[39;00m, manufacturer\u001b[39m=\u001b[39m\u001b[39mNone\u001b[39;00m, product\u001b[39m=\u001b[39m\u001b[39mNone\u001b[39;00m, serial_number\u001b[39m=\u001b[39m\u001b[39m\"\u001b[39m\u001b[39m83\u001b[39m\u001b[39m\"\u001b[39m,\n\u001b[0;32m     46\u001b[0m              location\u001b[39m=\u001b[39m\u001b[39mNone\u001b[39;00m, home\u001b[39m=\u001b[39m\u001b[39mTrue\u001b[39;00m, invert_direction_logic\u001b[39m=\u001b[39m\u001b[39mTrue\u001b[39;00m, swap_limit_switches\u001b[39m=\u001b[39m\u001b[39mTrue\u001b[39;00m):\n\u001b[1;32m---> 47\u001b[0m     \u001b[39msuper\u001b[39;49m()\u001b[39m.\u001b[39;49m\u001b[39m__init__\u001b[39;49m(serial_port\u001b[39m=\u001b[39;49mserial_port, vid\u001b[39m=\u001b[39;49mvid, pid\u001b[39m=\u001b[39;49mpid, manufacturer\u001b[39m=\u001b[39;49mmanufacturer, product\u001b[39m=\u001b[39;49mproduct,\n\u001b[0;32m     48\u001b[0m                      serial_number\u001b[39m=\u001b[39;49mserial_number, location\u001b[39m=\u001b[39;49mlocation, home\u001b[39m=\u001b[39;49mhome,\n\u001b[0;32m     49\u001b[0m                      invert_direction_logic\u001b[39m=\u001b[39;49minvert_direction_logic, swap_limit_switches\u001b[39m=\u001b[39;49mswap_limit_switches,\n\u001b[0;32m     50\u001b[0m                      status_updates\u001b[39m=\u001b[39;49m\u001b[39m\"\u001b[39;49m\u001b[39mauto\u001b[39;49m\u001b[39m\"\u001b[39;49m, controller\u001b[39m=\u001b[39;49m\u001b[39mNone\u001b[39;49;00m, bays\u001b[39m=\u001b[39;49m(EndPoint\u001b[39m.\u001b[39;49mUSB,), channels\u001b[39m=\u001b[39;49m(\u001b[39m1\u001b[39;49m,))\n\u001b[0;32m     52\u001b[0m     \u001b[39mself\u001b[39m\u001b[39m.\u001b[39mstatus \u001b[39m=\u001b[39m \u001b[39mself\u001b[39m\u001b[39m.\u001b[39mstatus_[\u001b[39m0\u001b[39m][\u001b[39m0\u001b[39m]\n\u001b[0;32m     53\u001b[0m \u001b[39m    \u001b[39m\u001b[39m\"\"\"Alias to first bay/channel of :data:`APTDevice_Motor.status_`.\"\"\"\u001b[39;00m\n",
      "File \u001b[1;32mc:\\Users\\antonpopov\\Documents\\PA-RSCF-22-72-00015-\\venv\\lib\\site-packages\\thorlabs_apt_device\\devices\\aptdevice_motor.py:45\u001b[0m, in \u001b[0;36mAPTDevice_Motor.__init__\u001b[1;34m(self, serial_port, vid, pid, manufacturer, product, serial_number, location, home, invert_direction_logic, swap_limit_switches, status_updates, controller, bays, channels)\u001b[0m\n\u001b[0;32m     43\u001b[0m \u001b[39mdef\u001b[39;00m \u001b[39m__init__\u001b[39m(\u001b[39mself\u001b[39m, serial_port\u001b[39m=\u001b[39m\u001b[39mNone\u001b[39;00m, vid\u001b[39m=\u001b[39m\u001b[39mNone\u001b[39;00m, pid\u001b[39m=\u001b[39m\u001b[39mNone\u001b[39;00m, manufacturer\u001b[39m=\u001b[39m\u001b[39mNone\u001b[39;00m, product\u001b[39m=\u001b[39m\u001b[39mNone\u001b[39;00m, serial_number\u001b[39m=\u001b[39m\u001b[39mNone\u001b[39;00m, location\u001b[39m=\u001b[39m\u001b[39mNone\u001b[39;00m, home\u001b[39m=\u001b[39m\u001b[39mTrue\u001b[39;00m, invert_direction_logic\u001b[39m=\u001b[39m\u001b[39mFalse\u001b[39;00m, swap_limit_switches\u001b[39m=\u001b[39m\u001b[39mFalse\u001b[39;00m, status_updates\u001b[39m=\u001b[39m\u001b[39m\"\u001b[39m\u001b[39mnone\u001b[39m\u001b[39m\"\u001b[39m, controller\u001b[39m=\u001b[39mEndPoint\u001b[39m.\u001b[39mRACK, bays\u001b[39m=\u001b[39m(EndPoint\u001b[39m.\u001b[39mBAY0,), channels\u001b[39m=\u001b[39m(\u001b[39m1\u001b[39m,)):\n\u001b[1;32m---> 45\u001b[0m     \u001b[39msuper\u001b[39;49m()\u001b[39m.\u001b[39;49m\u001b[39m__init__\u001b[39;49m(serial_port\u001b[39m=\u001b[39;49mserial_port, vid\u001b[39m=\u001b[39;49mvid, pid\u001b[39m=\u001b[39;49mpid, manufacturer\u001b[39m=\u001b[39;49mmanufacturer, product\u001b[39m=\u001b[39;49mproduct, serial_number\u001b[39m=\u001b[39;49mserial_number, location\u001b[39m=\u001b[39;49mlocation, controller\u001b[39m=\u001b[39;49mcontroller, bays\u001b[39m=\u001b[39;49mbays, channels\u001b[39m=\u001b[39;49mchannels, status_updates\u001b[39m=\u001b[39;49mstatus_updates)\n\u001b[0;32m     47\u001b[0m     \u001b[39mself\u001b[39m\u001b[39m.\u001b[39minvert_direction_logic \u001b[39m=\u001b[39m invert_direction_logic\n\u001b[0;32m     48\u001b[0m \u001b[39m    \u001b[39m\u001b[39m\"\"\"\u001b[39;00m\n\u001b[0;32m     49\u001b[0m \u001b[39m    On some devices, \"forward\" velocity moves towards negative encoder counts.\u001b[39;00m\n\u001b[0;32m     50\u001b[0m \u001b[39m    If that seems opposite to what is expected, this flag allows inversion of that logic.\u001b[39;00m\n\u001b[0;32m     51\u001b[0m \u001b[39m    This will also swap the meaning of the ``\"moving_forward\"`` and ``\"moving_reverse\"`` \u001b[39;00m\n\u001b[0;32m     52\u001b[0m \u001b[39m    fields in the :data:`status_` flags.\u001b[39;00m\n\u001b[0;32m     53\u001b[0m \u001b[39m    \"\"\"\u001b[39;00m\n",
      "File \u001b[1;32mc:\\Users\\antonpopov\\Documents\\PA-RSCF-22-72-00015-\\venv\\lib\\site-packages\\thorlabs_apt_device\\devices\\aptdevice.py:78\u001b[0m, in \u001b[0;36mAPTDevice.__init__\u001b[1;34m(self, serial_port, vid, pid, manufacturer, product, serial_number, location, controller, bays, channels, status_updates)\u001b[0m\n\u001b[0;32m     75\u001b[0m     serial_port \u001b[39m=\u001b[39m serial_port\u001b[39m.\u001b[39mdevice\n\u001b[0;32m     77\u001b[0m \u001b[39mif\u001b[39;00m serial_port \u001b[39mis\u001b[39;00m \u001b[39mNone\u001b[39;00m:\n\u001b[1;32m---> 78\u001b[0m     \u001b[39mraise\u001b[39;00m \u001b[39mRuntimeError\u001b[39;00m(\u001b[39m\"\u001b[39m\u001b[39mNo Thorlabs APT devices detected matching the selected criteria.\u001b[39m\u001b[39m\"\u001b[39m)\n\u001b[0;32m     80\u001b[0m \u001b[39mself\u001b[39m\u001b[39m.\u001b[39m_log \u001b[39m=\u001b[39m logging\u001b[39m.\u001b[39mgetLogger(\u001b[39m__name__\u001b[39m)\n\u001b[0;32m     81\u001b[0m \u001b[39mself\u001b[39m\u001b[39m.\u001b[39m_log\u001b[39m.\u001b[39minfo(\u001b[39mf\u001b[39m\u001b[39m\"\u001b[39m\u001b[39mInitialising serial port (\u001b[39m\u001b[39m{\u001b[39;00mserial_port\u001b[39m}\u001b[39;00m\u001b[39m).\u001b[39m\u001b[39m\"\u001b[39m)\n",
      "\u001b[1;31mRuntimeError\u001b[0m: No Thorlabs APT devices detected matching the selected criteria."
     ]
    }
   ],
   "source": [
    "stage = KDC101()\n",
    "\n",
    "stage.identify()"
   ]
  }
 ],
 "metadata": {
  "kernelspec": {
   "display_name": "venv",
   "language": "python",
   "name": "python3"
  },
  "language_info": {
   "codemirror_mode": {
    "name": "ipython",
    "version": 3
   },
   "file_extension": ".py",
   "mimetype": "text/x-python",
   "name": "python",
   "nbconvert_exporter": "python",
   "pygments_lexer": "ipython3",
   "version": "3.9.7"
  },
  "orig_nbformat": 4
 },
 "nbformat": 4,
 "nbformat_minor": 2
}
