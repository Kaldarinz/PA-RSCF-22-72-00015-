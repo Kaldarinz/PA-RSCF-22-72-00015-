{
 "cells": [
  {
   "cell_type": "code",
   "execution_count": 23,
   "metadata": {},
   "outputs": [
    {
     "name": "stdout",
     "output_type": "stream",
     "text": [
      "[('27257648', 'Brushed Motor Controller'), ('27257290', 'Brushed Motor Controller')]\n",
      "True\n"
     ]
    }
   ],
   "source": [
    "from pylablib.devices import Thorlabs\n",
    "\n",
    "stages = Thorlabs.list_kinesis_devices()\n",
    "\n",
    "if len(stages) < 2:\n",
    "    print('Less than 2 stages detected!')\n",
    "    print('Program terminated!')\n",
    "    exit()\n",
    "print(stages)\n",
    "\n",
    "stage1_ID = stages.pop()[0]\n",
    "stage2_ID = stages.pop()[0]\n",
    "\n",
    "stage1 = Thorlabs.KinesisMotor(stage1_ID, scale='stage') #motor units [m]\n",
    "stage2 = Thorlabs.KinesisMotor(stage2_ID, scale='stage') #motor units [m]\n",
    "\n",
    "stage1.home(sync=False, force=True)\n",
    "\n",
    "print(stage1.is_moving())\n",
    "\n",
    "stage1.close()\n",
    "stage2.close()"
   ]
  },
  {
   "cell_type": "code",
   "execution_count": 25,
   "metadata": {},
   "outputs": [
    {
     "name": "stdout",
     "output_type": "stream",
     "text": [
      "hey\n"
     ]
    }
   ],
   "source": [
    "x= None\n",
    "y = 2\n",
    "if y:\n",
    "    print('hey')"
   ]
  },
  {
   "cell_type": "code",
   "execution_count": null,
   "metadata": {},
   "outputs": [],
   "source": [
    "stage.move_by(0.01)\n",
    "while stage.is_moving():\n",
    "    print(stage.get_position())\n"
   ]
  },
  {
   "cell_type": "code",
   "execution_count": 13,
   "metadata": {},
   "outputs": [],
   "source": [
    "stage1.close()\n",
    "stage2.close()"
   ]
  },
  {
   "cell_type": "code",
   "execution_count": null,
   "metadata": {},
   "outputs": [],
   "source": []
  }
 ],
 "metadata": {
  "kernelspec": {
   "display_name": "venv",
   "language": "python",
   "name": "python3"
  },
  "language_info": {
   "codemirror_mode": {
    "name": "ipython",
    "version": 3
   },
   "file_extension": ".py",
   "mimetype": "text/x-python",
   "name": "python",
   "nbconvert_exporter": "python",
   "pygments_lexer": "ipython3",
   "version": "3.9.7"
  },
  "orig_nbformat": 4,
  "vscode": {
   "interpreter": {
    "hash": "b91392f6933e3feb3aa2eaf08649cc9a8f3b2cf93e15bc4257d9a7d2de6bc96d"
   }
  }
 },
 "nbformat": 4,
 "nbformat_minor": 2
}
